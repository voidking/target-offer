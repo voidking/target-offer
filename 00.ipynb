{
 "cells": [
  {
   "cell_type": "markdown",
   "metadata": {},
   "source": [
    "# 数组中重复的数字\n",
    "## 题目描述\n",
    "在一个长度为n的数组里的所有数字都在0到n-1的范围内。 数组中某些数字是重复的，但不知道有几个数字是重复的。也不知道每个数字重复几次。请找出数组中任意一个重复的数字。 例如，如果输入长度为7的数组{2,3,1,0,2,5,3}，那么对应的输出是第一个重复的数字2。"
   ]
  },
  {
   "cell_type": "code",
   "execution_count": 21,
   "metadata": {},
   "outputs": [
    {
     "name": "stdout",
     "output_type": "stream",
     "text": [
      "2\n"
     ]
    }
   ],
   "source": [
    "# -*- coding:utf-8 -*-\n",
    "class Solution:\n",
    "    # 这里要特别注意~找到任意重复的一个值并赋值到duplication[0]\n",
    "    # 函数返回True/False\n",
    "    def duplicate(self, numbers, duplication):\n",
    "        # write code here\n",
    "        index = 0\n",
    "        while index < len(numbers):\n",
    "            if (index == numbers[index]):\n",
    "                index = index + 1\n",
    "            elif (index != numbers[index]):\n",
    "                if (numbers[index] != numbers[numbers[index]]):\n",
    "                    temp = numbers[numbers[index]]\n",
    "                    numbers[numbers[index]] = numbers[index]\n",
    "                    numbers[index] = temp\n",
    "                else:\n",
    "                    duplication[0] = numbers[index]\n",
    "                    return True\n",
    "        return False\n",
    "        \n",
    "        \n",
    "def test():\n",
    "    test_list = [2,3,1,0,2,5,3]\n",
    "    duplication = [0]\n",
    "    solution = Solution()\n",
    "    solution.duplicate(test_list,duplication)\n",
    "    print(duplication[0])\n",
    "    \n",
    "test()"
   ]
  }
 ],
 "metadata": {
  "kernelspec": {
   "display_name": "Python 2",
   "language": "python",
   "name": "python2"
  },
  "language_info": {
   "codemirror_mode": {
    "name": "ipython",
    "version": 2
   },
   "file_extension": ".py",
   "mimetype": "text/x-python",
   "name": "python",
   "nbconvert_exporter": "python",
   "pygments_lexer": "ipython2",
   "version": "2.7.5"
  }
 },
 "nbformat": 4,
 "nbformat_minor": 2
}
