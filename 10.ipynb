{
 "cells": [
  {
   "cell_type": "markdown",
   "metadata": {},
   "source": [
    "# 机器人的运动范围\n",
    "## 题目描述\n",
    "地上有一个m行和n列的方格。一个机器人从坐标0,0的格子开始移动，每一次只能向左，右，上，下四个方向移动一格，但是不能进入行坐标和列坐标的数位之和大于k的格子。 例如，当k为18时，机器人能够进入方格（35,37），因为3+5+3+7 = 18。但是，它不能进入方格（35,38），因为3+5+3+8 = 19。请问该机器人能够达到多少个格子？"
   ]
  },
  {
   "cell_type": "code",
   "execution_count": 8,
   "metadata": {},
   "outputs": [
    {
     "name": "stdout",
     "output_type": "stream",
     "text": [
      "1388\n"
     ]
    }
   ],
   "source": [
    "# -*- coding:utf-8 -*-\n",
    "import sys\n",
    "sys.setrecursionlimit(1000000)\n",
    "\n",
    "class Solution:\n",
    "    def __init__(self):\n",
    "        self.boolmatrix = []\n",
    "        self.rows = 0\n",
    "        self.cols = 0\n",
    "\n",
    "    def movingCount(self, threshold, rows, cols):\n",
    "        # write code here\n",
    "        self.boolmatrix = [0] * (rows * cols)\n",
    "        self.rows = rows\n",
    "        self.cols = cols\n",
    "        \n",
    "        if threshold < 0:\n",
    "            return 0\n",
    "        \n",
    "        self.oneStep(threshold, 0, 0)\n",
    "        num = 0\n",
    "        for i in self.boolmatrix:\n",
    "            if i == 1:\n",
    "                num += 1\n",
    "        return num\n",
    "\n",
    "    def oneStep(self, threshold, row, col):\n",
    "        self.boolmatrix[row * self.cols + col] = 1\n",
    "\n",
    "        if row - 1 >= 0 and self.check(threshold, row - 1, col):\n",
    "            self.oneStep(threshold, row - 1, col)\n",
    "        if col - 1 >= 0 and self.check(threshold, row, col - 1):\n",
    "            self.oneStep(threshold, row, col - 1)\n",
    "        if row + 1 < self.rows and self.check(threshold, row + 1, col):\n",
    "            self.oneStep(threshold, row + 1, col)\n",
    "        if col + 1 < self.cols and self.check(threshold, row, col + 1):\n",
    "            self.oneStep(threshold, row, col + 1)\n",
    "\n",
    "    def check(self, threshold, row, col):\n",
    "        if self.boolmatrix[row * self.cols + col] == 1:\n",
    "            return False\n",
    "\n",
    "        num = 0\n",
    "        while row // 10:\n",
    "            num += row % 10\n",
    "            row = row // 10\n",
    "        num += row\n",
    "\n",
    "        while col // 10:\n",
    "            num += col % 10\n",
    "            col = col // 10\n",
    "        num += col\n",
    "\n",
    "        if num <= threshold:\n",
    "            return True\n",
    "        else:\n",
    "            return False\n",
    "\n",
    "\n",
    "def test():\n",
    "    solution = Solution()\n",
    "    num = solution.movingCount(18, 38, 38)\n",
    "    print(num)\n",
    "\n",
    "\n",
    "test()\n"
   ]
  }
 ],
 "metadata": {
  "kernelspec": {
   "display_name": "Python 2",
   "language": "python",
   "name": "python2"
  },
  "language_info": {
   "codemirror_mode": {
    "name": "ipython",
    "version": 2
   },
   "file_extension": ".py",
   "mimetype": "text/x-python",
   "name": "python",
   "nbconvert_exporter": "python",
   "pygments_lexer": "ipython2",
   "version": "2.7.5"
  }
 },
 "nbformat": 4,
 "nbformat_minor": 2
}
