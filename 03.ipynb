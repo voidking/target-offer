{
 "cells": [
  {
   "cell_type": "markdown",
   "metadata": {},
   "source": [
    "# 从尾到头打印链表\n",
    "## 题目描述\n",
    "输入一个链表，从尾到头打印链表每个节点的值。"
   ]
  },
  {
   "cell_type": "code",
   "execution_count": 7,
   "metadata": {},
   "outputs": [
    {
     "name": "stdout",
     "output_type": "stream",
     "text": [
      "[3, 2, 1, 0]\n"
     ]
    }
   ],
   "source": [
    "# -*- coding:utf-8 -*-\n",
    "# class ListNode:\n",
    "#     def __init__(self, x):\n",
    "#         self.val = x\n",
    "#         self.next = None\n",
    "\n",
    "class ListNode:\n",
    "    def __init__(self, x):\n",
    "        self.val = x\n",
    "        self.next = None\n",
    "\n",
    "class Solution:\n",
    "    # 返回从尾部到头部的列表值序列，例如[1,2,3]\n",
    "    def printListFromTailToHead(self, listNode):\n",
    "        # write code here\n",
    "        stack = []\n",
    "        result = []\n",
    "        while listNode != None:\n",
    "            stack.append(listNode.val)\n",
    "            listNode = listNode.next\n",
    "        \n",
    "        while len(stack)>0:\n",
    "            result.append(stack.pop())\n",
    "        return result\n",
    "        \n",
    "def test():\n",
    "    node0 = ListNode(0)\n",
    "    node1 = ListNode(1)\n",
    "    node2 = ListNode(2)\n",
    "    node3 = ListNode(3)\n",
    "    \n",
    "    node0.next = node1\n",
    "    node1.next = node2\n",
    "    node2.next = node3\n",
    "    \n",
    "    solution = Solution()\n",
    "    result = solution.printListFromTailToHead(node0)\n",
    "    print(result)\n",
    "    \n",
    "test()\n",
    "    "
   ]
  }
 ],
 "metadata": {
  "kernelspec": {
   "display_name": "Python 2",
   "language": "python",
   "name": "python2"
  },
  "language_info": {
   "codemirror_mode": {
    "name": "ipython",
    "version": 2
   },
   "file_extension": ".py",
   "mimetype": "text/x-python",
   "name": "python",
   "nbconvert_exporter": "python",
   "pygments_lexer": "ipython2",
   "version": "2.7.5"
  }
 },
 "nbformat": 4,
 "nbformat_minor": 2
}
