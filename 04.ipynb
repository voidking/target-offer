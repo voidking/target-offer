{
 "cells": [
  {
   "cell_type": "markdown",
   "metadata": {},
   "source": [
    "# 重建二叉树\n",
    "## 题目描述\n",
    "输入某二叉树的前序遍历和中序遍历的结果，请重建出该二叉树。假设输入的前序遍历和中序遍历的结果中都不含重复的数字。例如输入前序遍历序列{1,2,4,7,3,5,6,8}和中序遍历序列{4,7,2,1,5,3,8,6}，则重建二叉树并返回。"
   ]
  },
  {
   "cell_type": "code",
   "execution_count": 10,
   "metadata": {},
   "outputs": [
    {
     "name": "stdout",
     "output_type": "stream",
     "text": [
      "7\n"
     ]
    }
   ],
   "source": [
    "# -*- coding:utf-8 -*-\n",
    "# class TreeNode:\n",
    "#     def __init__(self, x):\n",
    "#         self.val = x\n",
    "#         self.left = None\n",
    "#         self.right = None\n",
    "\n",
    "# a[start:end] # 从数组中取索引start开始到end-1的记录\n",
    "# a[start:]    # 取从start开始到末尾的元素\n",
    "# a[:end]      # 取从0开始到end-1的元素\n",
    "# a[:]         # 复制整个数组\n",
    "\n",
    "class TreeNode:\n",
    "    def __init__(self, x):\n",
    "        self.val = x\n",
    "        self.left = None\n",
    "        self.right = None\n",
    "\n",
    "\n",
    "class Solution:\n",
    "    # 返回构造的TreeNode根节点\n",
    "    def reConstructBinaryTree(self, pre, tin):\n",
    "        # write code here\n",
    "        node = self.construct(pre, tin)\n",
    "        return node\n",
    "\n",
    "    def construct(self, pre, tin):\n",
    "        if len(pre) == 0:\n",
    "            return None\n",
    "\n",
    "        node = TreeNode(pre[0])\n",
    "        index = tin.index(pre[0])\n",
    "        left_tin = tin[:index]\n",
    "        right_tin = tin[index + 1:]\n",
    "        left_pre = pre[1:len(left_tin)+1]\n",
    "        right_pre = pre[len(left_tin)+1:]\n",
    "\n",
    "        node.left = self.construct(left_pre, left_tin)\n",
    "        node.right = self.construct(right_pre, right_tin)\n",
    "        return node\n",
    "\n",
    "\n",
    "def test():\n",
    "    pre = [1, 2, 4, 7, 3, 5, 6, 8]\n",
    "    tin = [4, 7, 2, 1, 5, 3, 8, 6]\n",
    "    solution = Solution()\n",
    "    node = solution.reConstructBinaryTree(pre, tin)\n",
    "    print(node.left.left.right.val)\n",
    "\n",
    "\n",
    "test()"
   ]
  }
 ],
 "metadata": {
  "kernelspec": {
   "display_name": "Python 2",
   "language": "python",
   "name": "python2"
  },
  "language_info": {
   "codemirror_mode": {
    "name": "ipython",
    "version": 2
   },
   "file_extension": ".py",
   "mimetype": "text/x-python",
   "name": "python",
   "nbconvert_exporter": "python",
   "pygments_lexer": "ipython2",
   "version": "2.7.5"
  }
 },
 "nbformat": 4,
 "nbformat_minor": 2
}
