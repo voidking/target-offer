{
 "cells": [
  {
   "cell_type": "markdown",
   "metadata": {},
   "source": [
    "# 剪绳子\n",
    "## 题目描述\n",
    "给你一根长度为n的绳子，请把绳子剪成m段 (m和n都是整数，n>1并且m>1)每段绳子的长度记为k[0],k[1],...,k[m].请问`k[0]*k[1]*...*k[m]`可能的最大乘积是多少？\n",
    "\n",
    "例如，当绳子的长度为8时，我们把它剪成长度分别为2,3,3的三段，此时得到的最大乘积是18。"
   ]
  },
  {
   "cell_type": "code",
   "execution_count": 11,
   "metadata": {},
   "outputs": [
    {
     "name": "stdout",
     "output_type": "stream",
     "text": [
      "12\n"
     ]
    }
   ],
   "source": [
    "# 动态规划解法\n",
    "# -*- coding:utf-8 -*-\n",
    "class Solution:\n",
    "    def cut(self, n):\n",
    "        # write code here\n",
    "        if n < 2:\n",
    "            return 0\n",
    "        if n == 2:\n",
    "            return 1\n",
    "        if n == 3:\n",
    "            return 2\n",
    "        \n",
    "        products = [0]*(n+1)\n",
    "        products[0] = 0\n",
    "        products[1] = 1\n",
    "        products[2] = 2\n",
    "        products[3] = 3\n",
    "        \n",
    "        max_length = 0\n",
    "        for i in range(4,n+1):\n",
    "            for j in range(1,(n+1)//2+1):\n",
    "                product = products[j]*products[i-j]\n",
    "                if max_length < product:\n",
    "                    max_length = product\n",
    "            products[i] = max_length\n",
    "        max_length = products[n]\n",
    "        return max_length\n",
    "\n",
    "def test():\n",
    "    solution = Solution()\n",
    "    max_length = solution.cut(7)\n",
    "    print(max_length)\n",
    "    \n",
    "test()"
   ]
  },
  {
   "cell_type": "code",
   "execution_count": 17,
   "metadata": {},
   "outputs": [
    {
     "name": "stdout",
     "output_type": "stream",
     "text": [
      "12\n"
     ]
    }
   ],
   "source": [
    "# 贪婪算法解法\n",
    "# -*- coding:utf-8 -*-\n",
    "class Solution:\n",
    "    def cut(self, n):\n",
    "        # write code here\n",
    "        if n < 2:\n",
    "            return 0\n",
    "        if n == 2:\n",
    "            return 1\n",
    "        if n == 3:\n",
    "            return 2\n",
    "        \n",
    "        time_of_3 = n//3\n",
    "        \n",
    "        left_of_3 = n%3\n",
    "        \n",
    "        max_length = 0\n",
    "        if left_of_3 == 0:\n",
    "            max_length = 3**time_of_3\n",
    "        elif left_of_3 == 1:\n",
    "            max_length = 3**(time_of_3-1)*4\n",
    "        else:\n",
    "            max_length = 3**(time_of_3-1)*6\n",
    "        \n",
    "        return max_length\n",
    "        \n",
    "def test():\n",
    "    solution = Solution()\n",
    "    max_length = solution.cut(7)\n",
    "    print(max_length)\n",
    "    \n",
    "test()"
   ]
  }
 ],
 "metadata": {
  "kernelspec": {
   "display_name": "Python 2",
   "language": "python",
   "name": "python2"
  },
  "language_info": {
   "codemirror_mode": {
    "name": "ipython",
    "version": 2
   },
   "file_extension": ".py",
   "mimetype": "text/x-python",
   "name": "python",
   "nbconvert_exporter": "python",
   "pygments_lexer": "ipython2",
   "version": "2.7.5"
  }
 },
 "nbformat": 4,
 "nbformat_minor": 2
}
