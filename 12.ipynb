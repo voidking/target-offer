{
 "cells": [
  {
   "cell_type": "markdown",
   "metadata": {},
   "source": [
    "# 二进制中1的个数\n",
    "## 题目描述\n",
    "输入一个整数，输出该数二进制表示中1的个数。其中负数用补码表示。"
   ]
  },
  {
   "cell_type": "code",
   "execution_count": 11,
   "metadata": {},
   "outputs": [
    {
     "name": "stdout",
     "output_type": "stream",
     "text": [
      "2\n"
     ]
    }
   ],
   "source": [
    "# 思路一：转换成字符串，没有考虑负数用补码表示\n",
    "# -*- coding:utf-8 -*-\n",
    "class Solution:\n",
    "    def NumberOf1(self, n):\n",
    "        # write code here\n",
    "        num = 0\n",
    "        n_str = str(bin(n))\n",
    "        # print(n_str)\n",
    "        for i in n_str:\n",
    "            if i == '1':\n",
    "                num += 1\n",
    "        return num\n",
    "\n",
    "def test():\n",
    "    solution = Solution()\n",
    "    num = solution.NumberOf1(-5)\n",
    "    print(num)\n",
    "\n",
    "test()"
   ]
  },
  {
   "cell_type": "code",
   "execution_count": 10,
   "metadata": {},
   "outputs": [
    {
     "name": "stdout",
     "output_type": "stream",
     "text": [
      "2\n"
     ]
    }
   ],
   "source": [
    "# 思路二：右移，没有考虑负数用补码表示\n",
    "# -*- coding:utf-8 -*-\n",
    "class Solution:\n",
    "    def NumberOf1(self, n):\n",
    "        # write code here\n",
    "        if n < 0:\n",
    "            n = -n\n",
    "            \n",
    "        num = 0\n",
    "        while n:\n",
    "            if n & 1:\n",
    "                num += 1\n",
    "            n = n >> 1\n",
    "        return num\n",
    "\n",
    "def test():\n",
    "    solution = Solution()\n",
    "    num = solution.NumberOf1(-5)\n",
    "    print(num)\n",
    "\n",
    "test()"
   ]
  },
  {
   "cell_type": "code",
   "execution_count": 33,
   "metadata": {},
   "outputs": [
    {
     "name": "stdout",
     "output_type": "stream",
     "text": [
      "32\n"
     ]
    }
   ],
   "source": [
    "# 标准答案\n",
    "# n在计算机中本身就是补码，-1的一个字节的补码为11111111\n",
    "# -*- coding:utf-8 -*-\n",
    "class Solution:\n",
    "    def NumberOf1(self, n):\n",
    "        # write code here\n",
    "        count = 0\n",
    "        for i in range(32):\n",
    "            count +=  (n >> i)&1\n",
    "        return count\n",
    "    \n",
    "def test():\n",
    "    solution = Solution()\n",
    "    count = solution.NumberOf1(-1)\n",
    "    print(count)\n",
    "\n",
    "test()"
   ]
  }
 ],
 "metadata": {
  "kernelspec": {
   "display_name": "Python 2",
   "language": "python",
   "name": "python2"
  },
  "language_info": {
   "codemirror_mode": {
    "name": "ipython",
    "version": 2
   },
   "file_extension": ".py",
   "mimetype": "text/x-python",
   "name": "python",
   "nbconvert_exporter": "python",
   "pygments_lexer": "ipython2",
   "version": "2.7.5"
  }
 },
 "nbformat": 4,
 "nbformat_minor": 2
}
