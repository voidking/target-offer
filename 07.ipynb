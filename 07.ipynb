{
 "cells": [
  {
   "cell_type": "markdown",
   "metadata": {},
   "source": [
    "# 斐波那契数列\n",
    "## 题目描述\n",
    "大家都知道斐波那契数列，现在要求输入一个整数n，请你输出斐波那契数列的第n项。\n",
    "n<=39"
   ]
  },
  {
   "cell_type": "code",
   "execution_count": 19,
   "metadata": {},
   "outputs": [
    {
     "name": "stdout",
     "output_type": "stream",
     "text": [
      "63245986\n"
     ]
    }
   ],
   "source": [
    "# -*- coding:utf-8 -*-\n",
    "class Solution:\n",
    "    # 递归方法效率较低\n",
    "#     def Fibonacci(self, n):\n",
    "#         # write code here\n",
    "#         if n == 0 or n == 1:\n",
    "#             return n\n",
    "        \n",
    "#         return self.Fibonacci(n-1) + self.Fibonacci(n-2)\n",
    "\n",
    "    def Fibonacci(self, n):\n",
    "        # write code here\n",
    "        if n == 0 or n == 1:\n",
    "            return n\n",
    "        \n",
    "        fibone = 1\n",
    "        fibtwo = 0\n",
    "        fib = 0\n",
    "        for i in range(2,n+1):\n",
    "            fib = fibone + fibtwo\n",
    "            \n",
    "            fibtwo = fibone\n",
    "            fibone = fib\n",
    "            \n",
    "        return fib\n",
    "    \n",
    "def test():\n",
    "    solution = Solution()\n",
    "    result = solution.Fibonacci(39)\n",
    "    print(result)\n",
    "    \n",
    "test()"
   ]
  },
  {
   "cell_type": "markdown",
   "metadata": {},
   "source": [
    "# 跳台阶\n",
    "## 题目描述\n",
    "一只青蛙一次可以跳上1级台阶，也可以跳上2级。求该青蛙跳上一个n级的台阶总共有多少种跳法。"
   ]
  },
  {
   "cell_type": "code",
   "execution_count": 21,
   "metadata": {},
   "outputs": [
    {
     "name": "stdout",
     "output_type": "stream",
     "text": [
      "102334155\n"
     ]
    }
   ],
   "source": [
    "# -*- coding:utf-8 -*-\n",
    "class Solution:\n",
    "    def jumpFloor(self, number):\n",
    "        # write code here\n",
    "        if number == 1 or number == 2:\n",
    "            return number\n",
    "        \n",
    "        fibone = 2\n",
    "        fibtwo = 1\n",
    "        fib = 0\n",
    "        for i in range(3,number+1):\n",
    "            fib = fibone + fibtwo\n",
    "            \n",
    "            fibtwo = fibone\n",
    "            fibone = fib\n",
    "        return fib\n",
    "    \n",
    "def test():\n",
    "    solution = Solution()\n",
    "    result = solution.jumpFloor(39)\n",
    "    print(result)\n",
    "    \n",
    "test()"
   ]
  }
 ],
 "metadata": {
  "kernelspec": {
   "display_name": "Python 2",
   "language": "python",
   "name": "python2"
  },
  "language_info": {
   "codemirror_mode": {
    "name": "ipython",
    "version": 2
   },
   "file_extension": ".py",
   "mimetype": "text/x-python",
   "name": "python",
   "nbconvert_exporter": "python",
   "pygments_lexer": "ipython2",
   "version": "2.7.5"
  }
 },
 "nbformat": 4,
 "nbformat_minor": 2
}
