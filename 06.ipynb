{
 "cells": [
  {
   "cell_type": "markdown",
   "metadata": {},
   "source": [
    "# 用两个栈实现队列\n",
    "## 题目描述\n",
    "用两个栈来实现一个队列，完成队列的Push和Pop操作。 队列中的元素为int类型。\n",
    "\n",
    "## 解题思路\n",
    "在python中，list可以看做栈，append()是入栈操作，pop()是出栈操作。"
   ]
  },
  {
   "cell_type": "code",
   "execution_count": 9,
   "metadata": {},
   "outputs": [
    {
     "name": "stdout",
     "output_type": "stream",
     "text": [
      "(0, 1)\n",
      "3\n",
      "(4, 2)\n"
     ]
    }
   ],
   "source": [
    "# -*- coding:utf-8 -*-\n",
    "class Solution:\n",
    "    def __init__(self):\n",
    "        self.stack1 = []\n",
    "        self.stack2 = []\n",
    "        \n",
    "    def push(self, node):\n",
    "        # write code here\n",
    "        self.stack1.append(node)\n",
    "        \n",
    "    def pop(self):\n",
    "        # return xx\n",
    "        if len(self.stack2) != 0:\n",
    "            return self.stack2.pop()\n",
    "        else:\n",
    "            while len(self.stack1) > 0:\n",
    "                self.stack2.append(self.stack1.pop())\n",
    "            return self.stack2.pop()\n",
    "    \n",
    "def test():\n",
    "    \n",
    "    solution = Solution()\n",
    "    solution.push(0)\n",
    "    solution.push(1)\n",
    "    solution.push(2)\n",
    "    print(solution.pop(),solution.pop())\n",
    "    \n",
    "    solution.push(3)\n",
    "    print(solution.pop())\n",
    "    \n",
    "    solution.push(4)\n",
    "    print(solution.pop(),solution.pop())\n",
    "    \n",
    "\n",
    "test()"
   ]
  }
 ],
 "metadata": {
  "kernelspec": {
   "display_name": "Python 2",
   "language": "python",
   "name": "python2"
  },
  "language_info": {
   "codemirror_mode": {
    "name": "ipython",
    "version": 2
   },
   "file_extension": ".py",
   "mimetype": "text/x-python",
   "name": "python",
   "nbconvert_exporter": "python",
   "pygments_lexer": "ipython2",
   "version": "2.7.5"
  }
 },
 "nbformat": 4,
 "nbformat_minor": 2
}
