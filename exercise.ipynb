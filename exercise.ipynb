{
 "cells": [
  {
   "cell_type": "markdown",
   "metadata": {},
   "source": [
    "# 二分查找\n",
    "## 题目描述\n",
    "对于一个有序数组，我们通常采用二分查找的方式来定位某一元素，请编写二分查找的算法，在数组中查找指定元素。\n",
    "\n",
    "给定一个整数数组A及它的大小n，同时给定要查找的元素val，请返回它在数组中的位置(从0开始)，若不存在该元素，返回-1。若该元素出现多次，请返回第一次出现的位置。\n",
    "\n",
    "测试样例：\n",
    "> [1,3,5,7,9],5,3\n",
    "\n",
    "> 返回：1\n",
    "\n",
    "## 参考文档\n",
    "[你真的会写二分查找吗？](https://www.cnblogs.com/bofengyu/p/6761389.html)"
   ]
  },
  {
   "cell_type": "code",
   "execution_count": 12,
   "metadata": {},
   "outputs": [
    {
     "name": "stdout",
     "output_type": "stream",
     "text": [
      "4\n"
     ]
    }
   ],
   "source": [
    "# -*- coding:utf-8 -*-\n",
    "\n",
    "class BinarySearch:\n",
    "    # 适用于无重复数字\n",
    "#     def getPos(self, A, n, val):\n",
    "#         # write code here\n",
    "#         left = 0\n",
    "#         right = len(A)-1\n",
    "#         mid = (left+right)/2\n",
    "            \n",
    "#         while left <= right:\n",
    "#             if val < A[mid]:\n",
    "#                 right = mid - 1\n",
    "#                 mid = (left+right)/2\n",
    "#             elif val > A[mid]:\n",
    "#                 left = mid + 1\n",
    "#                 mid = (left+right)/2\n",
    "#             elif val == A[mid]:\n",
    "#                 return mid\n",
    "#         return -1\n",
    "\n",
    "    def getPos(self, A, n, val):\n",
    "        # write code here\n",
    "        left = 0\n",
    "        right = len(A)-1\n",
    "        \n",
    "        while left <= right:\n",
    "            mid = (left+right)/2\n",
    "            if val <= A[mid]:\n",
    "                right = mid - 1\n",
    "            else:\n",
    "                left = mid + 1\n",
    "        \n",
    "        if left < len(A) and val == A[left]:\n",
    "            return left\n",
    "        \n",
    "        return -1\n",
    "                \n",
    "        \n",
    "def test():\n",
    "    binary_search = BinarySearch()\n",
    "    index = binary_search.getPos([1,3,3,5,7,9],5,7)\n",
    "    print(index)\n",
    "\n",
    "test()"
   ]
  },
  {
   "cell_type": "markdown",
   "metadata": {},
   "source": [
    "# 归并排序\n",
    "## 题目描述\n",
    "使用归并排序，给[8,7,4,2,1,3,5,9,0,6]按照升序排序。\n",
    "示例输入：\n",
    "> [8,7,4,2,1,3,5,9,0,6]\n",
    "\n",
    "示例输出：\n",
    "> [0,1,2,3,4,5,6,7,8,9]\n",
    "\n",
    "## 关键\n",
    "归并排序为什么非要要求子序列有序？无序一样可以排啊！因为，有序子序列排序时效率更高！\n",
    "既然归并排序要求子序列有序，那么关键就在于怎样对两个有序子序列合并排序！"
   ]
  },
  {
   "cell_type": "code",
   "execution_count": 37,
   "metadata": {},
   "outputs": [
    {
     "name": "stdout",
     "output_type": "stream",
     "text": [
      "[0, 1, 2, 3, 4, 5, 6, 7, 8, 9]\n"
     ]
    }
   ],
   "source": [
    "class Solution:\n",
    "    def __init__(self):\n",
    "        # temp负责临时存放合并后的值，main中计算出最大长度\n",
    "        self.temp = []\n",
    "        self.t = 0\n",
    "        \n",
    "    # sort合并两段排序后的数组，比如[1,3,4,5,7,9,0,2,4,6,8]，可以看做[1,3,4,5,7,9]和[0,2,4,6,8]\n",
    "    # 比如[1,3]，可以看做[1]和[3]，排序完成后，temp=[1,3]，然后赋值给arr的第0和第1个位置\n",
    "    def sort(self,arr,left,mid,right):\n",
    "        i = left\n",
    "        j = mid+1\n",
    "        while i <= mid and j <= right:\n",
    "            if arr[i] <= arr[j]:\n",
    "                self.temp[self.t] = arr[i]\n",
    "                i += 1\n",
    "            else:\n",
    "                self.temp[self.t] = arr[j]\n",
    "                j += 1\n",
    "            self.t += 1\n",
    "            \n",
    "        while i <= mid:\n",
    "            self.temp[self.t] = arr[i]\n",
    "            self.t += 1\n",
    "            i += 1\n",
    "            \n",
    "        while j <= right:\n",
    "            self.temp[self.t] = arr[j]\n",
    "            self.t += 1\n",
    "            j += 1\n",
    "        \n",
    "        \n",
    "        # 排序完成后赋值给arr\n",
    "        self.t = 0\n",
    "        while left <= right:\n",
    "            arr[left] = self.temp[self.t]\n",
    "            left += 1\n",
    "            self.t += 1\n",
    "        self.t = 0\n",
    "            \n",
    "    def merge(self,arr,left,right):\n",
    "        if left == right:\n",
    "            return None\n",
    "        \n",
    "        mid = (left+right)/2\n",
    "        self.merge(arr,left,mid)\n",
    "        self.merge(arr,mid+1,right)\n",
    "        self.sort(arr,left,mid,right)\n",
    "        \n",
    "    def main(self,arr):\n",
    "        left = 0\n",
    "        right = len(arr)-1\n",
    "        mid = (left+right)/2\n",
    "        self.temp = [0]*len(arr)\n",
    "    \n",
    "        self.merge(arr,left,right)\n",
    "        \n",
    "        \n",
    "def test():\n",
    "    arr = [8,7,4,2,1,3,5,9,0,6]\n",
    "    \n",
    "    solution = Solution()\n",
    "    solution.main(arr)\n",
    "    print(arr)\n",
    "\n",
    "test()"
   ]
  },
  {
   "cell_type": "markdown",
   "metadata": {},
   "source": [
    "# 快速排序\n",
    "## 题目描述\n",
    "使用归并排序，给[8,7,4,2,1,3,5,9,0,6]按照升序排序。\n",
    "示例输入：\n",
    "> [8,7,4,2,1,3,5,9,0,6]\n",
    "\n",
    "示例输出：\n",
    "> [0,1,2,3,4,5,6,7,8,9]"
   ]
  },
  {
   "cell_type": "code",
   "execution_count": 43,
   "metadata": {},
   "outputs": [
    {
     "name": "stdout",
     "output_type": "stream",
     "text": [
      "[0, 1, 2, 3, 4, 5, 6, 7, 8, 9]\n"
     ]
    }
   ],
   "source": [
    "class Solution:\n",
    "    def quick(self,arr,left,right):\n",
    "        i = left \n",
    "        j = right\n",
    "        temp = arr[i]\n",
    "        while i < j:\n",
    "            while i < j and arr[j] >= temp:\n",
    "                j -= 1\n",
    "            if i < j:  \n",
    "                arr[i] = arr[j]\n",
    "                \n",
    "            while i < j and arr[i] < temp:\n",
    "                i += 1\n",
    "            if i < j:\n",
    "                arr[j] = arr[i]\n",
    "        if i == j:\n",
    "            arr[i] = temp\n",
    "            \n",
    "        if left < right:\n",
    "            self.quick(arr, left, i-1)\n",
    "            self.quick(arr, i+1 ,right)\n",
    "            \n",
    "    def main(self, arr):\n",
    "        left = 0\n",
    "        right = len(arr)-1\n",
    "        self.quick(arr,left,right)\n",
    "\n",
    "def test():\n",
    "    arr = [8,7,4,2,1,3,5,9,0,6]\n",
    "    \n",
    "    solution = Solution()\n",
    "    solution.main(arr)\n",
    "    print(arr)\n",
    "\n",
    "test()"
   ]
  }
 ],
 "metadata": {
  "kernelspec": {
   "display_name": "Python 2",
   "language": "python",
   "name": "python2"
  },
  "language_info": {
   "codemirror_mode": {
    "name": "ipython",
    "version": 2
   },
   "file_extension": ".py",
   "mimetype": "text/x-python",
   "name": "python",
   "nbconvert_exporter": "python",
   "pygments_lexer": "ipython2",
   "version": "2.7.5"
  }
 },
 "nbformat": 4,
 "nbformat_minor": 2
}
