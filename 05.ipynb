{
 "cells": [
  {
   "cell_type": "markdown",
   "metadata": {},
   "source": [
    "# 二叉树的下一个节点\n",
    "## 题目描述\n",
    "给定一个二叉树和其中的一个结点，请找出中序遍历顺序的下一个结点并且返回。注意，树中的结点不仅包含左右子结点，同时包含指向父结点的指针。\n",
    "\n",
    "## 解题思路\n",
    "![](http://7oxjrx.com1.z0.glb.clouddn.com//imgs/target-offer/getnext.jpg)"
   ]
  },
  {
   "cell_type": "code",
   "execution_count": 17,
   "metadata": {},
   "outputs": [
    {
     "name": "stdout",
     "output_type": "stream",
     "text": [
      "7\n",
      "6\n"
     ]
    }
   ],
   "source": [
    "# -*- coding:utf-8 -*-\n",
    "# class TreeLinkNode:\n",
    "#     def __init__(self, x):\n",
    "#         self.val = x\n",
    "#         self.left = None\n",
    "#         self.right = None\n",
    "#         self.next = None\n",
    "\n",
    "class TreeLinkNode:\n",
    "    def __init__(self, x):\n",
    "        self.val = x\n",
    "        self.left = None\n",
    "        self.right = None\n",
    "        self.next = None\n",
    "\n",
    "\n",
    "class Solution:\n",
    "    def reConstructBinaryTree(self, pre, tin):\n",
    "        # write code here\n",
    "        node = self.construct(None, pre, tin)\n",
    "        return node\n",
    "\n",
    "    def construct(self, pnode, pre, tin):\n",
    "        if len(pre) == 0:\n",
    "            return None\n",
    "\n",
    "        node = TreeLinkNode(pre[0])\n",
    "        index = tin.index(pre[0])\n",
    "        left_tin = tin[:index]\n",
    "        right_tin = tin[index + 1:]\n",
    "        left_pre = pre[1:len(left_tin) + 1]\n",
    "        right_pre = pre[len(left_tin) + 1:]\n",
    "\n",
    "        node.left = self.construct(node, left_pre, left_tin)\n",
    "        node.right = self.construct(node, right_pre, right_tin)\n",
    "        node.next = pnode\n",
    "        return node\n",
    "\n",
    "    def GetNext(self, pNode):\n",
    "        # write code here\n",
    "        if pNode.right != None:\n",
    "            result = self.getleft(pNode.right)\n",
    "            return result\n",
    "        else:\n",
    "            while pNode.next != None and pNode != pNode.next.left:\n",
    "                pNode = pNode.next\n",
    "            result = pNode.next\n",
    "            return result\n",
    "\n",
    "    def getleft(self, node):\n",
    "        while node.left != None:\n",
    "            node = node.left\n",
    "        return node\n",
    "\n",
    "\n",
    "def test():\n",
    "    pre = [1, 2, 4, 7, 3, 5, 6, 8]\n",
    "    tin = [4, 7, 2, 1, 5, 3, 8, 6]\n",
    "    solution = Solution()\n",
    "    node = solution.reConstructBinaryTree(pre, tin)\n",
    "\n",
    "    print(node.left.left.right.val)  # 7\n",
    "    print(node.right.right.val) # 6\n",
    "\n",
    "    result = solution.GetNext(node.right.right)\n",
    "    if result != None:\n",
    "        print(result.val)\n",
    "\n",
    "\n",
    "test()"
   ]
  }
 ],
 "metadata": {
  "kernelspec": {
   "display_name": "Python 2",
   "language": "python",
   "name": "python2"
  },
  "language_info": {
   "codemirror_mode": {
    "name": "ipython",
    "version": 2
   },
   "file_extension": ".py",
   "mimetype": "text/x-python",
   "name": "python",
   "nbconvert_exporter": "python",
   "pygments_lexer": "ipython2",
   "version": "2.7.5"
  }
 },
 "nbformat": 4,
 "nbformat_minor": 2
}
